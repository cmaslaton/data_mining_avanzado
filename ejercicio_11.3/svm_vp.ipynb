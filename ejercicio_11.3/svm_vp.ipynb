{
 "cells": [
  {
   "cell_type": "code",
   "execution_count": 2,
   "id": "bf866d7e-2223-46d1-8214-e88b2755bf76",
   "metadata": {},
   "outputs": [
    {
     "name": "stdout",
     "output_type": "stream",
     "text": [
      "   Gender   Age  Height  Weight family_history FAVC  FCVC  NCP       CAEC  \\\n",
      "0  Female  21.0    1.62    64.0            yes   no   2.0  3.0  Sometimes   \n",
      "1  Female  21.0    1.52    56.0            yes   no   3.0  3.0  Sometimes   \n",
      "2    Male  23.0    1.80    77.0            yes   no   2.0  3.0  Sometimes   \n",
      "3    Male  27.0    1.80    87.0             no   no   3.0  3.0  Sometimes   \n",
      "4    Male  22.0    1.78    89.8             no   no   2.0  1.0  Sometimes   \n",
      "\n",
      "  SMOKE  CH2O  SCC  FAF  TUE        CALC                 MTRANS  \\\n",
      "0    no   2.0   no  0.0  1.0          no  Public_Transportation   \n",
      "1   yes   3.0  yes  3.0  0.0   Sometimes  Public_Transportation   \n",
      "2    no   2.0   no  2.0  1.0  Frequently  Public_Transportation   \n",
      "3    no   2.0   no  2.0  0.0  Frequently                Walking   \n",
      "4    no   2.0   no  0.0  0.0   Sometimes  Public_Transportation   \n",
      "\n",
      "               Obesity  \n",
      "0        Normal_Weight  \n",
      "1        Normal_Weight  \n",
      "2        Normal_Weight  \n",
      "3   Overweight_Level_I  \n",
      "4  Overweight_Level_II  \n"
     ]
    }
   ],
   "source": [
    "import pandas as pd\n",
    "from sklearn.model_selection import train_test_split, GridSearchCV\n",
    "from sklearn.svm import SVC\n",
    "from sklearn.linear_model import Perceptron\n",
    "from sklearn.kernel_approximation import RBFSampler\n",
    "from sklearn.pipeline import Pipeline\n",
    "from sklearn.preprocessing import StandardScaler\n",
    "from sklearn.metrics import accuracy_score, confusion_matrix, classification_report\n",
    "import os\n",
    "\n",
    "# Cargar el dataset\n",
    "path = os.path.join(os.path.dirname(os.path.abspath('')), 'ejercicio_11.3', 'Obesity prediction.csv')\n",
    "data = pd.read_csv(path)\n",
    "\n",
    "# Inspeccionar los datos\n",
    "print(data.head())\n",
    "\n",
    "# Definir características (X) y target (y)\n",
    "X = data.drop(columns='Obesity')\n",
    "y = data['Obesity']\n",
    "\n",
    "# Convertir variables categóricas a numéricas si es necesario\n",
    "X = pd.get_dummies(X)\n",
    "\n",
    "# Dividir el dataset en entrenamiento y prueba\n",
    "X_train, X_test, y_train, y_test = train_test_split(X, y, test_size=0.3, random_state=42)"
   ]
  },
  {
   "cell_type": "markdown",
   "id": "c10da19a-1cda-4d99-bbf9-922b1b2eba41",
   "metadata": {},
   "source": [
    "### Pipelines para SVM no-lineal y Voted Perceptron con kernels RBF"
   ]
  },
  {
   "cell_type": "code",
   "execution_count": 3,
   "id": "3a90c02e-4e01-415f-b93f-55baf377d8d1",
   "metadata": {},
   "outputs": [],
   "source": [
    "pipelines = {\n",
    "    'svm_pipeline': Pipeline([\n",
    "        ('scaler', StandardScaler()),\n",
    "        ('svm', SVC(kernel='rbf'))  # SVM con kernel RBF\n",
    "    ]),\n",
    "    'voted_perceptron_pipeline': Pipeline([\n",
    "        ('scaler', StandardScaler()),\n",
    "        ('rbf_features', RBFSampler(gamma=0.1, random_state=42)),  # Aproximación de kernel RBF\n",
    "        ('perceptron', Perceptron(max_iter=1000, tol=1e-3, random_state=42))\n",
    "    ])\n",
    "}\n",
    "\n",
    "# Definir hiperparámetros para ambos modelos\n",
    "param_grids = {\n",
    "    'svm_pipeline': {\n",
    "        'svm__C': [0.1, 1, 10],           # Parámetro de regularización\n",
    "        'svm__gamma': ['auto', 'scale', 0.01, 0.1, 1, 10]  # Parámetro gamma para el kernel RBF\n",
    "    },\n",
    "    'voted_perceptron_pipeline': {\n",
    "        'rbf_features__gamma': [0.01, 0.1, 1, 10],\n",
    "        'perceptron__alpha': [0.0001, 0.001, 0.01]   # Regularización del perceptrón\n",
    "    }\n",
    "}"
   ]
  },
  {
   "cell_type": "code",
   "execution_count": 4,
   "id": "64155ee3-1179-4fe7-aa5f-a313eba0c758",
   "metadata": {},
   "outputs": [
    {
     "name": "stdout",
     "output_type": "stream",
     "text": [
      "Mejores parámetros para SVM: {'svm__C': 10, 'svm__gamma': 0.01}\n",
      "Mejores parámetros para Vpted Perceptron: {'perceptron__alpha': 0.0001, 'rbf_features__gamma': 0.01}\n"
     ]
    }
   ],
   "source": [
    "# Realizar GridSearch para ambos modelos\n",
    "grid_search_svm = GridSearchCV(pipelines['svm_pipeline'], param_grids['svm_pipeline'], cv=5, n_jobs=-1)\n",
    "grid_search_perceptron = GridSearchCV(pipelines['voted_perceptron_pipeline'], param_grids['voted_perceptron_pipeline'], cv=5, n_jobs=-1)\n",
    "\n",
    "# Entrenar los modelos\n",
    "grid_search_svm.fit(X_train, y_train)\n",
    "grid_search_perceptron.fit(X_train, y_train)\n",
    "\n",
    "# Obtener los mejores resultados\n",
    "print(\"Mejores parámetros para SVM:\", grid_search_svm.best_params_)\n",
    "print(\"Mejores parámetros para Vpted Perceptron:\", grid_search_perceptron.best_params_)\n",
    "\n",
    "# Predecir en los datos de prueba\n",
    "y_pred_svm = grid_search_svm.best_estimator_.predict(X_test)\n",
    "y_pred_perceptron = grid_search_perceptron.best_estimator_.predict(X_test)"
   ]
  },
  {
   "cell_type": "markdown",
   "id": "2aec42d6-3496-4f9a-ae4c-4b0b1a69be80",
   "metadata": {},
   "source": [
    "### Accuracy"
   ]
  },
  {
   "cell_type": "code",
   "execution_count": 5,
   "id": "dc51d002-5bd6-4087-8670-bf13429adc87",
   "metadata": {},
   "outputs": [
    {
     "name": "stdout",
     "output_type": "stream",
     "text": [
      "Accuracy SVM: 0.9022082018927445\n",
      "Accuracy Voted Perceptron: 0.6624605678233438\n"
     ]
    }
   ],
   "source": [
    "accuracy_svm = accuracy_score(y_test, y_pred_svm)\n",
    "accuracy_perceptron = accuracy_score(y_test, y_pred_perceptron)\n",
    "\n",
    "print(\"Accuracy SVM:\", accuracy_svm)\n",
    "print(\"Accuracy Voted Perceptron:\", accuracy_perceptron)"
   ]
  },
  {
   "cell_type": "markdown",
   "id": "53b4e2e5-9b55-47c7-a50e-7db0b6463be6",
   "metadata": {},
   "source": [
    "### Confusion Matrix"
   ]
  },
  {
   "cell_type": "code",
   "execution_count": 6,
   "id": "799074aa-d3bc-4341-ba3f-7811fc271301",
   "metadata": {},
   "outputs": [
    {
     "name": "stdout",
     "output_type": "stream",
     "text": [
      "\n",
      "Confusion Matrix SVM:\n",
      " [[81  5  0  0  0  0  0]\n",
      " [ 7 75  0  0  0  7  4]\n",
      " [ 0  1 98  2  0  0  1]\n",
      " [ 0  0  1 87  0  0  0]\n",
      " [ 0  0  0  1 97  0  0]\n",
      " [ 0 11  0  0  0 70  7]\n",
      " [ 0  3  3  0  0  9 64]]\n",
      "\n",
      "Confusion Matrix Voted Perceptron:\n",
      " [[81  5  0  0  0  0  0]\n",
      " [26 55  0  3  2  0  7]\n",
      " [ 2  8 24  1 12  0 55]\n",
      " [ 0  0  1 84  0  0  3]\n",
      " [ 0  0  0  1 97  0  0]\n",
      " [24 24  0  0  2 19 19]\n",
      " [ 4 12  1  0  1  1 60]]\n"
     ]
    }
   ],
   "source": [
    "conf_matrix_svm = confusion_matrix(y_test, y_pred_svm)\n",
    "conf_matrix_perceptron = confusion_matrix(y_test, y_pred_perceptron)\n",
    "\n",
    "print(\"\\nConfusion Matrix SVM:\\n\", conf_matrix_svm)\n",
    "print(\"\\nConfusion Matrix Voted Perceptron:\\n\", conf_matrix_perceptron)"
   ]
  },
  {
   "cell_type": "markdown",
   "id": "ad4d91e3-478d-40ca-90b8-e48d8270b430",
   "metadata": {},
   "source": [
    "### Classification Reports"
   ]
  },
  {
   "cell_type": "code",
   "execution_count": 7,
   "id": "416defa2-ddf9-4b74-bffc-b3f51f994609",
   "metadata": {},
   "outputs": [
    {
     "name": "stdout",
     "output_type": "stream",
     "text": [
      "\n",
      "Classification Report SVM:\n",
      "                      precision    recall  f1-score   support\n",
      "\n",
      "Insufficient_Weight       0.92      0.94      0.93        86\n",
      "      Normal_Weight       0.79      0.81      0.80        93\n",
      "     Obesity_Type_I       0.96      0.96      0.96       102\n",
      "    Obesity_Type_II       0.97      0.99      0.98        88\n",
      "   Obesity_Type_III       1.00      0.99      0.99        98\n",
      " Overweight_Level_I       0.81      0.80      0.80        88\n",
      "Overweight_Level_II       0.84      0.81      0.83        79\n",
      "\n",
      "           accuracy                           0.90       634\n",
      "          macro avg       0.90      0.90      0.90       634\n",
      "       weighted avg       0.90      0.90      0.90       634\n",
      "\n",
      "\n",
      "Classification Report Voted Perceptron Perceptron:\n",
      "                      precision    recall  f1-score   support\n",
      "\n",
      "Insufficient_Weight       0.59      0.94      0.73        86\n",
      "      Normal_Weight       0.53      0.59      0.56        93\n",
      "     Obesity_Type_I       0.92      0.24      0.38       102\n",
      "    Obesity_Type_II       0.94      0.95      0.95        88\n",
      "   Obesity_Type_III       0.85      0.99      0.92        98\n",
      " Overweight_Level_I       0.95      0.22      0.35        88\n",
      "Overweight_Level_II       0.42      0.76      0.54        79\n",
      "\n",
      "           accuracy                           0.66       634\n",
      "          macro avg       0.74      0.67      0.63       634\n",
      "       weighted avg       0.75      0.66      0.63       634\n",
      "\n"
     ]
    }
   ],
   "source": [
    "report_svm = classification_report(y_test, y_pred_svm)\n",
    "report_perceptron = classification_report(y_test, y_pred_perceptron)\n",
    "\n",
    "print(\"\\nClassification Report SVM:\\n\", report_svm)\n",
    "print(\"\\nClassification Report Voted Perceptron Perceptron:\\n\", report_perceptron)"
   ]
  },
  {
   "cell_type": "code",
   "execution_count": null,
   "id": "02c185fd-ab03-4900-8c0c-4b1cd08f86b5",
   "metadata": {},
   "outputs": [],
   "source": []
  }
 ],
 "metadata": {
  "kernelspec": {
   "display_name": ".venv",
   "language": "python",
   "name": "python3"
  },
  "language_info": {
   "codemirror_mode": {
    "name": "ipython",
    "version": 3
   },
   "file_extension": ".py",
   "mimetype": "text/x-python",
   "name": "python",
   "nbconvert_exporter": "python",
   "pygments_lexer": "ipython3",
   "version": "3.11.4"
  }
 },
 "nbformat": 4,
 "nbformat_minor": 5
}
